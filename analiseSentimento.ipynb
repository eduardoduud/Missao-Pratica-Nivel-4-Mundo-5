{
  "nbformat": 4,
  "nbformat_minor": 0,
  "metadata": {
    "colab": {
      "provenance": []
    },
    "kernelspec": {
      "name": "python3",
      "display_name": "Python 3"
    },
    "language_info": {
      "name": "python"
    }
  },
  "cells": [
    {
      "cell_type": "markdown",
      "source": [
        "Análise de Sentimentos."
      ],
      "metadata": {
        "id": "zJjBiu48vo8B"
      }
    },
    {
      "cell_type": "code",
      "source": [
        "!pip install -U pip setuptools wheel\n",
        "!pip install -U spacy\n",
        "!python -m spacy download en_core_web_sm\n",
        "!pip install spacytextblob\n",
        "import pkg_resources, importlib\n",
        "importlib.reload(pkg_resources)"
      ],
      "metadata": {
        "collapsed": true,
        "id": "0ezeWH1avpkH"
      },
      "execution_count": null,
      "outputs": []
    },
    {
      "cell_type": "markdown",
      "source": [
        "Passo 2: Importando as bibliotecas para análise de sentimento"
      ],
      "metadata": {
        "id": "GjW7chQqwl5G"
      }
    },
    {
      "cell_type": "code",
      "source": [
        "import spacy\n",
        "from spacytextblob.spacytextblob import SpacyTextBlob"
      ],
      "metadata": {
        "id": "OCNaofxqv70D"
      },
      "execution_count": null,
      "outputs": []
    },
    {
      "cell_type": "markdown",
      "source": [
        "Passo 3: Definindo o modelo e a pipeline a serem utilizadas na análise"
      ],
      "metadata": {
        "id": "1wRq-BXLwmsg"
      }
    },
    {
      "cell_type": "code",
      "source": [
        "nlp = spacy.load('en_core_web_sm')\n",
        "nlp.add_pipe('spacytextblob')"
      ],
      "metadata": {
        "id": "y_6mqsiSwox_"
      },
      "execution_count": null,
      "outputs": []
    },
    {
      "cell_type": "markdown",
      "source": [
        "Passo 4: Definindo o texto inicial a ser analisado para verificação/validação da biblioteca"
      ],
      "metadata": {
        "id": "UzZSg5tvww9S"
      }
    },
    {
      "cell_type": "code",
      "source": [
        "user_input = 'This is a wonderful campsite. I loved the serenity and the birds chirping in the morning.'\n",
        "doc = nlp(user_input)"
      ],
      "metadata": {
        "id": "yVE1JPWQwx8Q"
      },
      "execution_count": null,
      "outputs": []
    },
    {
      "cell_type": "markdown",
      "source": [
        "Passo 5: Exibindo o resultado da primeira análise (um range entre -1 [avaliação negativa] e 1 [avaliação positiva])"
      ],
      "metadata": {
        "id": "xjBV015fw22t"
      }
    },
    {
      "cell_type": "code",
      "source": [
        "input_polarity = doc._.polarity\n",
        "\n",
        "sentiment = {\n",
        "    'score': input_polarity\n",
        "}\n",
        "\n",
        "print(sentiment)"
      ],
      "metadata": {
        "id": "vq32fhRZw5dF"
      },
      "execution_count": null,
      "outputs": []
    },
    {
      "cell_type": "markdown",
      "source": [
        "Passo 6: Definindo a lista de tweets a serem analisadas"
      ],
      "metadata": {
        "id": "yECYjifDxJVa"
      }
    },
    {
      "cell_type": "code",
      "source": [
        "tweets=[\"Bayer Leverkusen goalkeeper Bernd Leno will not be going to Napoli. His agent Uli Ferber to Bild: I can confirm that there were negotiations with Napoli, which we have broken off. Napoli is not an option. Atletico Madrid and Arsenal are the other strong rumours. #B04 #AFC\",\n",
        "\"Gary Speed v Blackburn at St James in 2001/02 anyone? #NUFC #BEL #JAP #WorldCup\",\n",
        "\"@ChelseaFC Don't make him regret it and start him over Hoofiz\",\n",
        "\"@LiverpoolFF @AnfieldEdition He's a liar, made up. I've unfollowed him as loads of others have. Pure blagger. #LFC\",\n",
        "\"@theesk @Everton Didn't realise Kenwright is due to leave at the end of the month. In all seriousness could you see him being interested in us?\",\n",
        "\"@hasanshahbaz19 @LFC My knowledge has decreased somewhat in the past few seasons\",\n",
        "\"Report: Linked with #Everton and #Wolves, Italians set to sign £4.5m-rated winger\",\n",
        "\"Am seeing tweets that there’s been a fall out @Everton between the money men... I’m presuming it’s just a quiet news day or some kopite with nothing better to do! @ALANMYERSMEDIA\",\n",
        "\"@LFC @officialAL20 @IntChampionsCup @ManUtd Expect loads of excuses after tonight’s game\",\n",
        "\"@MartinDiamond17 @azryahmad @Baren_D @Mathewlewis1997 @iamheinthu @DiMarzio @Alissonbecker @LFC @SkySportsNews @SkySport @OfficialASRoma I’m just fine I have your fanbase angry over stating facts should ask them hun. Xo\",\n",
        "\"What a weekend of football results! @ManUtd @Glentoran @RangersFC &amp; Hearts ????\",\n",
        "\"@ChelseaFC For the first time in a long while, my heart was relaxed while watching Chelsea. Really enjoyed it today. Come on, CHELSEA!!!\",\n",
        "\"@ChelseaFC @CesarAzpi What a fantastic signing worth every single penny ??\",\n",
        "\"Pogba scores, Pogba assists. But tomorrow papers won't be telling you this, instead they will tell you how he'll end up at Juve because he's unhappy, frustrated, have grudges with Mourinho and so on and so forth #mufc\",\n",
        "\"@WestHamUtd we need to keep @CH14_ and get @HirvingLozano70 to compliment\",\n",
        "\"@kevdev9 @Everton Shouldn’t be happening! Needs to stay away with his venomous attitude until he is sold!\",\n",
        "\"@brfootball @aguerosergiokun @ManCity What a genius. Pep taking winning mentality with him, conquering league after league. Baller\",\n",
        "\"@HMZ0709  Can we get a RT for our #lfc Mo Salah Liverpool Enamel Pin Badge\"]\n"
      ],
      "metadata": {
        "id": "bZEeuzTjxKrv"
      },
      "execution_count": null,
      "outputs": []
    },
    {
      "cell_type": "markdown",
      "source": [
        "Passo 7: Analisando os tweets"
      ],
      "metadata": {
        "id": "xm7CFjDuxR9r"
      }
    },
    {
      "cell_type": "code",
      "source": [
        "for item in tweets:\n",
        "  doc = nlp(item)\n",
        "  input_polarity = doc._.polarity\n",
        "  sentiment = {\n",
        "      'tweet': item,\n",
        "      'score': input_polarity\n",
        "  }\n",
        "  print(sentiment)"
      ],
      "metadata": {
        "id": "i0296rj8xSeJ"
      },
      "execution_count": null,
      "outputs": []
    }
  ]
}